{
 "cells": [
  {
   "cell_type": "code",
   "execution_count": 0,
   "metadata": {
    "colab": {
     "base_uri": "https://localhost:8080/",
     "height": 122
    },
    "colab_type": "code",
    "id": "R_tK8AmX9_Vx",
    "outputId": "b0a0f99f-8307-4b07-cd40-dfa12e20d06d"
   },
   "outputs": [
    {
     "name": "stdout",
     "output_type": "stream",
     "text": [
      "Go to this URL in a browser: https://accounts.google.com/o/oauth2/auth?client_id=947318989803-6bn6qk8qdgf4n4g3pfee6491hc0brc4i.apps.googleusercontent.com&redirect_uri=urn%3aietf%3awg%3aoauth%3a2.0%3aoob&response_type=code&scope=email%20https%3a%2f%2fwww.googleapis.com%2fauth%2fdocs.test%20https%3a%2f%2fwww.googleapis.com%2fauth%2fdrive%20https%3a%2f%2fwww.googleapis.com%2fauth%2fdrive.photos.readonly%20https%3a%2f%2fwww.googleapis.com%2fauth%2fpeopleapi.readonly\n",
      "\n",
      "Enter your authorization code:\n",
      "··········\n",
      "Mounted at /content/drive\n"
     ]
    }
   ],
   "source": [
    "from google.colab import drive\n",
    "drive.mount('/content/drive')"
   ]
  },
  {
   "cell_type": "code",
   "execution_count": null,
   "metadata": {},
   "outputs": [],
   "source": [
    "cd /content/drive/My Drive"
   ]
  },
  {
   "cell_type": "code",
   "execution_count": null,
   "metadata": {},
   "outputs": [],
   "source": [
    "!unzip yolov3-master.zip\n",
    "# for train and test, the file name of yolo should be change to yolov3-master and use folloe code to train."
   ]
  },
  {
   "cell_type": "code",
   "execution_count": 0,
   "metadata": {
    "colab": {
     "base_uri": "https://localhost:8080/",
     "height": 34
    },
    "colab_type": "code",
    "id": "86aHIYzvIPyL",
    "outputId": "52bc3a71-e810-4caa-db69-aeb3ed954a69"
   },
   "outputs": [
    {
     "name": "stdout",
     "output_type": "stream",
     "text": [
      "/content/drive/My Drive/yolov3-master\n"
     ]
    }
   ],
   "source": [
    "cd /content/drive/My Drive/yolov3-master"
   ]
  },
  {
   "cell_type": "code",
   "execution_count": null,
   "metadata": {},
   "outputs": [],
   "source": [
    "!python3  -c \"from models import *; convert('./yolov3_for_test.cfg', 'yolov3.weights')\""
   ]
  },
  {
   "cell_type": "code",
   "execution_count": 0,
   "metadata": {
    "colab": {
     "base_uri": "https://localhost:8080/",
     "height": 1000
    },
    "colab_type": "code",
    "id": "wFB9sBVLJF3o",
    "outputId": "0fb62dc6-69c3-465e-d558-34caf64dd959"
   },
   "outputs": [
    {
     "name": "stdout",
     "output_type": "stream",
     "text": [
      "Apex recommended for faster mixed precision training: https://github.com/NVIDIA/apex\n",
      "Namespace(accumulate=4, adam=False, batch_size=4, bucket='', cache_images=False, cfg='yolov3_for_train.cfg', data='data/fire.data', device='', epochs=500, evolve=False, img_size=[320, 640], multi_scale=False, name='', nosave=False, notest=False, rect=False, resume=False, single_cls=False, weights='weights/yolov3_out/best.pt')\n",
      "Using CPU\n",
      "\n",
      "Start Tensorboard with \"tensorboard --logdir=runs\", view at http://localhost:6006/\n",
      "2020-05-08 14:19:48.205126: I tensorflow/stream_executor/platform/default/dso_loader.cc:44] Successfully opened dynamic library libcudart.so.10.1\n",
      "Model Summary: 222 layers, 6.15237e+07 parameters, 6.15237e+07 gradients\n",
      "Caching labels (814 found, 0 missing, 0 empty, 0 duplicate, for 814 images): 100% 814/814 [10:53<00:00,  1.25it/s]\n",
      "Caching labels (82 found, 1 missing, 0 empty, 0 duplicate, for 83 images): 100% 83/83 [01:10<00:00,  1.17it/s]\n",
      "layer                                     name  gradient   parameters                shape         mu      sigma\n",
      "    0                          0.Conv2d.weight     False          864        [32, 3, 3, 3]   -0.00655      0.367\n",
      "    1                     0.BatchNorm2d.weight     False           32                 [32]       1.05        1.2\n",
      "    2                       0.BatchNorm2d.bias     False           32                 [32]     -0.327       2.15\n",
      "    3                          1.Conv2d.weight     False        18432       [64, 32, 3, 3]   -0.00268     0.0963\n",
      "    4                     1.BatchNorm2d.weight     False           64                 [64]      0.963       0.29\n",
      "    5                       1.BatchNorm2d.bias     False           64                 [64]    -0.0127      0.835\n",
      "    6                          2.Conv2d.weight     False         2048       [32, 64, 1, 1]   -0.00975      0.162\n",
      "    7                     2.BatchNorm2d.weight     False           32                 [32]       1.13      0.388\n",
      "    8                       2.BatchNorm2d.bias     False           32                 [32]    -0.0346      0.751\n",
      "    9                          3.Conv2d.weight     False        18432       [64, 32, 3, 3]   -0.00525      0.082\n",
      "   10                     3.BatchNorm2d.weight     False           64                 [64]       1.29      0.937\n",
      "   11                       3.BatchNorm2d.bias     False           64                 [64]     -0.345      0.623\n",
      "   12                          5.Conv2d.weight     False        73728      [128, 64, 3, 3]   -0.00293     0.0575\n",
      "   13                     5.BatchNorm2d.weight     False          128                [128]       1.03      0.259\n",
      "   14                       5.BatchNorm2d.bias     False          128                [128]     0.0959      0.867\n",
      "   15                          6.Conv2d.weight     False         8192      [64, 128, 1, 1]   -0.00232      0.069\n",
      "   16                     6.BatchNorm2d.weight     False           64                 [64]      0.712      0.213\n",
      "   17                       6.BatchNorm2d.bias     False           64                 [64]     -0.278      0.854\n",
      "   18                          7.Conv2d.weight     False        73728      [128, 64, 3, 3]   -0.00237     0.0368\n",
      "   19                     7.BatchNorm2d.weight     False          128                [128]       0.54      0.387\n",
      "   20                       7.BatchNorm2d.bias     False          128                [128]     -0.293      0.571\n",
      "   21                          9.Conv2d.weight     False         8192      [64, 128, 1, 1]    -0.0127     0.0949\n",
      "   22                     9.BatchNorm2d.weight     False           64                 [64]       1.06      0.211\n",
      "   23                       9.BatchNorm2d.bias     False           64                 [64]     -0.306      0.511\n",
      "   24                         10.Conv2d.weight     False        73728      [128, 64, 3, 3]   -0.00453     0.0473\n",
      "   25                    10.BatchNorm2d.weight     False          128                [128]       1.16      0.657\n",
      "   26                      10.BatchNorm2d.bias     False          128                [128]     -0.533      0.415\n",
      "   27                         12.Conv2d.weight     False       294912     [256, 128, 3, 3]   -0.00102     0.0377\n",
      "   28                    12.BatchNorm2d.weight     False          256                [256]      0.781       0.22\n",
      "   29                      12.BatchNorm2d.bias     False          256                [256]       0.12      0.723\n",
      "   30                         13.Conv2d.weight     False        32768     [128, 256, 1, 1]   -0.00173     0.0343\n",
      "   31                    13.BatchNorm2d.weight     False          128                [128]      0.706      0.272\n",
      "   32                      13.BatchNorm2d.bias     False          128                [128]     -0.372      0.585\n",
      "   33                         14.Conv2d.weight     False       294912     [256, 128, 3, 3]   -0.00085     0.0149\n",
      "   34                    14.BatchNorm2d.weight     False          256                [256]      0.254      0.305\n",
      "   35                      14.BatchNorm2d.bias     False          256                [256]     -0.439      0.331\n",
      "   36                         16.Conv2d.weight     False        32768     [128, 256, 1, 1]   -0.00179     0.0426\n",
      "   37                    16.BatchNorm2d.weight     False          128                [128]        0.9      0.169\n",
      "   38                      16.BatchNorm2d.bias     False          128                [128]      -0.35      0.288\n",
      "   39                         17.Conv2d.weight     False       294912     [256, 128, 3, 3]  -0.000902     0.0218\n",
      "   40                    17.BatchNorm2d.weight     False          256                [256]      0.484      0.229\n",
      "   41                      17.BatchNorm2d.bias     False          256                [256]     -0.359        0.3\n",
      "   42                         19.Conv2d.weight     False        32768     [128, 256, 1, 1]    -0.0031     0.0495\n",
      "   43                    19.BatchNorm2d.weight     False          128                [128]      0.879       0.15\n",
      "   44                      19.BatchNorm2d.bias     False          128                [128]     -0.394      0.362\n",
      "   45                         20.Conv2d.weight     False       294912     [256, 128, 3, 3]   -0.00171     0.0232\n",
      "   46                    20.BatchNorm2d.weight     False          256                [256]      0.546      0.333\n",
      "   47                      20.BatchNorm2d.bias     False          256                [256]     -0.472      0.261\n",
      "   48                         22.Conv2d.weight     False        32768     [128, 256, 1, 1]   -0.00222     0.0487\n",
      "   49                    22.BatchNorm2d.weight     False          128                [128]      0.898      0.119\n",
      "   50                      22.BatchNorm2d.bias     False          128                [128]     -0.388      0.298\n",
      "   51                         23.Conv2d.weight     False       294912     [256, 128, 3, 3]   -0.00154     0.0244\n",
      "   52                    23.BatchNorm2d.weight     False          256                [256]      0.607      0.327\n",
      "   53                      23.BatchNorm2d.bias     False          256                [256]     -0.548      0.244\n",
      "   54                         25.Conv2d.weight     False        32768     [128, 256, 1, 1]   -0.00366     0.0524\n",
      "   55                    25.BatchNorm2d.weight     False          128                [128]      0.853      0.139\n",
      "   56                      25.BatchNorm2d.bias     False          128                [128]     -0.459      0.344\n",
      "   57                         26.Conv2d.weight     False       294912     [256, 128, 3, 3]   -0.00214     0.0257\n",
      "   58                    26.BatchNorm2d.weight     False          256                [256]      0.796      0.336\n",
      "   59                      26.BatchNorm2d.bias     False          256                [256]     -0.679      0.268\n",
      "   60                         28.Conv2d.weight     False        32768     [128, 256, 1, 1]   -0.00447     0.0533\n",
      "   61                    28.BatchNorm2d.weight     False          128                [128]      0.834       0.14\n",
      "   62                      28.BatchNorm2d.bias     False          128                [128]     -0.459      0.401\n",
      "   63                         29.Conv2d.weight     False       294912     [256, 128, 3, 3]   -0.00174     0.0259\n",
      "   64                    29.BatchNorm2d.weight     False          256                [256]      0.835      0.409\n",
      "   65                      29.BatchNorm2d.bias     False          256                [256]     -0.718      0.283\n",
      "   66                         31.Conv2d.weight     False        32768     [128, 256, 1, 1]   -0.00532     0.0545\n",
      "   67                    31.BatchNorm2d.weight     False          128                [128]      0.791      0.139\n",
      "   68                      31.BatchNorm2d.bias     False          128                [128]     -0.576      0.396\n",
      "   69                         32.Conv2d.weight     False       294912     [256, 128, 3, 3]     -0.002     0.0262\n",
      "   70                    32.BatchNorm2d.weight     False          256                [256]       0.98      0.387\n",
      "   71                      32.BatchNorm2d.bias     False          256                [256]     -0.712      0.234\n",
      "   72                         34.Conv2d.weight     False        32768     [128, 256, 1, 1]   -0.00565     0.0534\n",
      "   73                    34.BatchNorm2d.weight     False          128                [128]      0.824      0.138\n",
      "   74                      34.BatchNorm2d.bias     False          128                [128]     -0.475      0.411\n",
      "   75                         35.Conv2d.weight     False       294912     [256, 128, 3, 3]   -0.00129     0.0248\n",
      "   76                    35.BatchNorm2d.weight     False          256                [256]       1.03      0.545\n",
      "   77                      35.BatchNorm2d.bias     False          256                [256]     -0.697      0.238\n",
      "   78                         37.Conv2d.weight     False  1.17965e+06     [512, 256, 3, 3]  -0.000556     0.0228\n",
      "   79                    37.BatchNorm2d.weight     False          512                [512]      0.909      0.246\n",
      "   80                      37.BatchNorm2d.bias     False          512                [512]     -0.602      0.572\n",
      "   81                         38.Conv2d.weight     False       131072     [256, 512, 1, 1]   -0.00141     0.0208\n",
      "   82                    38.BatchNorm2d.weight     False          256                [256]      0.945      0.136\n",
      "   83                      38.BatchNorm2d.bias     False          256                [256]     -0.106        0.3\n",
      "   84                         39.Conv2d.weight     False  1.17965e+06     [512, 256, 3, 3]  -0.000186    0.00877\n",
      "   85                    39.BatchNorm2d.weight     False          512                [512]      0.227      0.325\n",
      "   86                      39.BatchNorm2d.bias     False          512                [512]     -0.521      0.192\n",
      "   87                         41.Conv2d.weight     False       131072     [256, 512, 1, 1]   -0.00227      0.025\n",
      "   88                    41.BatchNorm2d.weight     False          256                [256]      0.873      0.156\n",
      "   89                      41.BatchNorm2d.bias     False          256                [256]     -0.384      0.303\n",
      "   90                         42.Conv2d.weight     False  1.17965e+06     [512, 256, 3, 3]  -0.000528      0.013\n",
      "   91                    42.BatchNorm2d.weight     False          512                [512]      0.485      0.317\n",
      "   92                      42.BatchNorm2d.bias     False          512                [512]     -0.541      0.232\n",
      "   93                         44.Conv2d.weight     False       131072     [256, 512, 1, 1]   -0.00261     0.0318\n",
      "   94                    44.BatchNorm2d.weight     False          256                [256]      0.749      0.114\n",
      "   95                      44.BatchNorm2d.bias     False          256                [256]     -0.648      0.279\n",
      "   96                         45.Conv2d.weight     False  1.17965e+06     [512, 256, 3, 3]  -0.000743     0.0165\n",
      "   97                    45.BatchNorm2d.weight     False          512                [512]      0.581      0.271\n",
      "   98                      45.BatchNorm2d.bias     False          512                [512]     -0.538      0.217\n",
      "   99                         47.Conv2d.weight     False       131072     [256, 512, 1, 1]   -0.00308     0.0345\n",
      "  100                    47.BatchNorm2d.weight     False          256                [256]      0.765      0.128\n",
      "  101                      47.BatchNorm2d.bias     False          256                [256]     -0.585      0.357\n",
      "  102                         48.Conv2d.weight     False  1.17965e+06     [512, 256, 3, 3]   -0.00082     0.0171\n",
      "  103                    48.BatchNorm2d.weight     False          512                [512]      0.668      0.251\n",
      "  104                      48.BatchNorm2d.bias     False          512                [512]     -0.649      0.208\n",
      "  105                         50.Conv2d.weight     False       131072     [256, 512, 1, 1]   -0.00335     0.0348\n",
      "  106                    50.BatchNorm2d.weight     False          256                [256]      0.746      0.107\n",
      "  107                      50.BatchNorm2d.bias     False          256                [256]     -0.638      0.286\n",
      "  108                         51.Conv2d.weight     False  1.17965e+06     [512, 256, 3, 3]  -0.000798     0.0166\n",
      "  109                    51.BatchNorm2d.weight     False          512                [512]      0.691      0.354\n",
      "  110                      51.BatchNorm2d.bias     False          512                [512]       -0.7      0.223\n",
      "  111                         53.Conv2d.weight     False       131072     [256, 512, 1, 1]   -0.00352     0.0366\n",
      "  112                    53.BatchNorm2d.weight     False          256                [256]      0.687     0.0971\n",
      "  113                      53.BatchNorm2d.bias     False          256                [256]     -0.748       0.26\n",
      "  114                         54.Conv2d.weight     False  1.17965e+06     [512, 256, 3, 3]  -0.000783     0.0177\n",
      "  115                    54.BatchNorm2d.weight     False          512                [512]      0.837      0.277\n",
      "  116                      54.BatchNorm2d.bias     False          512                [512]     -0.686       0.21\n",
      "  117                         56.Conv2d.weight     False       131072     [256, 512, 1, 1]    -0.0031     0.0337\n",
      "  118                    56.BatchNorm2d.weight     False          256                [256]      0.819     0.0817\n",
      "  119                      56.BatchNorm2d.bias     False          256                [256]     -0.559      0.182\n",
      "  120                         57.Conv2d.weight     False  1.17965e+06     [512, 256, 3, 3]  -0.000603     0.0154\n",
      "  121                    57.BatchNorm2d.weight     False          512                [512]      0.749      0.456\n",
      "  122                      57.BatchNorm2d.bias     False          512                [512]     -0.681      0.206\n",
      "  123                         59.Conv2d.weight     False       131072     [256, 512, 1, 1]   -0.00412     0.0392\n",
      "  124                    59.BatchNorm2d.weight     False          256                [256]      0.683      0.104\n",
      "  125                      59.BatchNorm2d.bias     False          256                [256]     -0.743      0.286\n",
      "  126                         60.Conv2d.weight     False  1.17965e+06     [512, 256, 3, 3]  -0.000254      0.017\n",
      "  127                    60.BatchNorm2d.weight     False          512                [512]      0.957      0.327\n",
      "  128                      60.BatchNorm2d.bias     False          512                [512]      -0.66      0.183\n",
      "  129                         62.Conv2d.weight     False  4.71859e+06    [1024, 512, 3, 3]  -0.000719      0.014\n",
      "  130                    62.BatchNorm2d.weight     False         1024               [1024]      0.836      0.224\n",
      "  131                      62.BatchNorm2d.bias     False         1024               [1024]     -0.948      0.393\n",
      "  132                         63.Conv2d.weight     False       524288    [512, 1024, 1, 1]   -0.00191     0.0205\n",
      "  133                    63.BatchNorm2d.weight     False          512                [512]      0.805      0.191\n",
      "  134                      63.BatchNorm2d.bias     False          512                [512]     -0.502      0.309\n",
      "  135                         64.Conv2d.weight     False  4.71859e+06    [1024, 512, 3, 3]  -0.000474     0.0106\n",
      "  136                    64.BatchNorm2d.weight     False         1024               [1024]      0.435      0.265\n",
      "  137                      64.BatchNorm2d.bias     False         1024               [1024]     -0.415      0.199\n",
      "  138                         66.Conv2d.weight     False       524288    [512, 1024, 1, 1]   -0.00225     0.0254\n",
      "  139                    66.BatchNorm2d.weight     False          512                [512]      0.749      0.148\n",
      "  140                      66.BatchNorm2d.bias     False          512                [512]     -0.676      0.264\n",
      "  141                         67.Conv2d.weight     False  4.71859e+06    [1024, 512, 3, 3]  -0.000164     0.0121\n",
      "  142                    67.BatchNorm2d.weight     False         1024               [1024]      0.595      0.278\n",
      "  143                      67.BatchNorm2d.bias     False         1024               [1024]     -0.543      0.191\n",
      "  144                         69.Conv2d.weight     False       524288    [512, 1024, 1, 1]   -0.00192     0.0247\n",
      "  145                    69.BatchNorm2d.weight     False          512                [512]      0.746      0.133\n",
      "  146                      69.BatchNorm2d.bias     False          512                [512]     -0.662      0.237\n",
      "  147                         70.Conv2d.weight     False  4.71859e+06    [1024, 512, 3, 3]  -0.000221      0.011\n",
      "  148                    70.BatchNorm2d.weight     False         1024               [1024]      0.598      0.392\n",
      "  149                      70.BatchNorm2d.bias     False         1024               [1024]     -0.597       0.21\n",
      "  150                         72.Conv2d.weight     False       524288    [512, 1024, 1, 1]   -0.00202     0.0276\n",
      "  151                    72.BatchNorm2d.weight     False          512                [512]      0.795      0.177\n",
      "  152                      72.BatchNorm2d.bias     False          512                [512]     -0.783      0.314\n",
      "  153                         73.Conv2d.weight     False  4.71859e+06    [1024, 512, 3, 3]  -0.000215     0.0117\n",
      "  154                    73.BatchNorm2d.weight     False         1024               [1024]       1.04       0.32\n",
      "  155                      73.BatchNorm2d.bias     False         1024               [1024]     -0.772      0.274\n",
      "  156                         75.Conv2d.weight     False       524288    [512, 1024, 1, 1]  -0.000705     0.0294\n",
      "  157                    75.BatchNorm2d.weight     False          512                [512]      0.987     0.0535\n",
      "  158                      75.BatchNorm2d.bias     False          512                [512]      -0.17     0.0648\n",
      "  159                         76.Conv2d.weight     False  4.71859e+06    [1024, 512, 3, 3]  -0.000325     0.0116\n",
      "  160                    76.BatchNorm2d.weight     False         1024               [1024]      0.987     0.0468\n",
      "  161                      76.BatchNorm2d.bias     False         1024               [1024]     -0.156     0.0427\n",
      "  162                         77.Conv2d.weight     False       524288    [512, 1024, 1, 1]  -0.000941     0.0253\n",
      "  163                    77.BatchNorm2d.weight     False          512                [512]      0.986     0.0497\n",
      "  164                      77.BatchNorm2d.bias     False          512                [512]     -0.177     0.0689\n",
      "  165                         78.Conv2d.weight     False  4.71859e+06    [1024, 512, 3, 3]  -0.000347     0.0107\n",
      "  166                    78.BatchNorm2d.weight     False         1024               [1024]       0.99     0.0455\n",
      "  167                      78.BatchNorm2d.bias     False         1024               [1024]     -0.139     0.0515\n",
      "  168                         79.Conv2d.weight     False       524288    [512, 1024, 1, 1]   -0.00117     0.0232\n",
      "  169                    79.BatchNorm2d.weight     False          512                [512]      0.993     0.0596\n",
      "  170                      79.BatchNorm2d.bias     False          512                [512]     -0.103      0.096\n",
      "  171                         80.Conv2d.weight     False  4.71859e+06    [1024, 512, 3, 3]   -0.00011    0.00786\n",
      "  172                    80.BatchNorm2d.weight     False         1024               [1024]       1.14      0.119\n",
      "  173                      80.BatchNorm2d.bias     False         1024               [1024]      0.122      0.112\n",
      "  174                         81.Conv2d.weight      True        18432     [18, 1024, 1, 1]   -0.00521     0.0348\n",
      "  175                           81.Conv2d.bias      True           18                 [18]     -0.215       0.57\n",
      "  176                         84.Conv2d.weight     False       131072     [256, 512, 1, 1]    -0.0137      0.033\n",
      "  177                    84.BatchNorm2d.weight     False          256                [256]   -0.00684      0.038\n",
      "  178                      84.BatchNorm2d.bias     False          256                [256]    -0.0168     0.0262\n",
      "  179                         87.Conv2d.weight     False       196608     [256, 768, 1, 1]   -0.00583     0.0551\n",
      "  180                    87.BatchNorm2d.weight     False          256                [256]    -0.0119     0.0465\n",
      "  181                      87.BatchNorm2d.bias     False          256                [256]   -0.00625     0.0429\n",
      "  182                         88.Conv2d.weight     False  1.17965e+06     [512, 256, 3, 3]    0.00125     0.0594\n",
      "  183                    88.BatchNorm2d.weight     False          512                [512]  -0.000792     0.0377\n",
      "  184                      88.BatchNorm2d.bias     False          512                [512]  -0.000867     0.0343\n",
      "  185                         89.Conv2d.weight     False       131072     [256, 512, 1, 1]  -0.000137     0.0193\n",
      "  186                    89.BatchNorm2d.weight     False          256                [256]    0.00109     0.0362\n",
      "  187                      89.BatchNorm2d.bias     False          256                [256]     0.0066     0.0297\n",
      "  188                         90.Conv2d.weight     False  1.17965e+06     [512, 256, 3, 3]  -0.000163     0.0396\n",
      "  189                    90.BatchNorm2d.weight     False          512                [512]    0.00179     0.0327\n",
      "  190                      90.BatchNorm2d.bias     False          512                [512]    0.00176     0.0234\n",
      "  191                         91.Conv2d.weight     False       131072     [256, 512, 1, 1]  -0.000997     0.0176\n",
      "  192                    91.BatchNorm2d.weight     False          256                [256]   -0.00627     0.0382\n",
      "  193                      91.BatchNorm2d.bias     False          256                [256]    0.00621     0.0298\n",
      "  194                         92.Conv2d.weight     False  1.17965e+06     [512, 256, 3, 3]   0.000385     0.0404\n",
      "  195                    92.BatchNorm2d.weight     False          512                [512]   -0.00468     0.0441\n",
      "  196                      92.BatchNorm2d.bias     False          512                [512]    0.00364     0.0259\n",
      "  197                         93.Conv2d.weight      True         9216      [18, 512, 1, 1]  -0.000677     0.0272\n",
      "  198                           93.Conv2d.bias      True           18                 [18]      -1.04       3.06\n",
      "  199                         96.Conv2d.weight     False        32768     [128, 256, 1, 1]  -0.000524     0.0126\n",
      "  200                    96.BatchNorm2d.weight     False          128                [128]    0.00346     0.0103\n",
      "  201                      96.BatchNorm2d.bias     False          128                [128]   0.000287     0.0115\n",
      "  202                         99.Conv2d.weight     False        49152     [128, 384, 1, 1]  -0.000333     0.0137\n",
      "  203                    99.BatchNorm2d.weight     False          128                [128]   -0.00162     0.0401\n",
      "  204                      99.BatchNorm2d.bias     False          128                [128]    0.00903     0.0327\n",
      "  205                        100.Conv2d.weight     False       294912     [256, 128, 3, 3]   -0.00781     0.0475\n",
      "  206                   100.BatchNorm2d.weight     False          256                [256]    -0.0011     0.0345\n",
      "  207                     100.BatchNorm2d.bias     False          256                [256]   0.000214     0.0219\n",
      "  208                        101.Conv2d.weight     False        32768     [128, 256, 1, 1]     0.0149      0.233\n",
      "  209                   101.BatchNorm2d.weight     False          128                [128]       0.01      0.057\n",
      "  210                     101.BatchNorm2d.bias     False          128                [128]    0.00209     0.0674\n",
      "  211                        102.Conv2d.weight     False       294912     [256, 128, 3, 3]   0.000776     0.0772\n",
      "  212                   102.BatchNorm2d.weight     False          256                [256]     0.0025     0.0614\n",
      "  213                     102.BatchNorm2d.bias     False          256                [256]   -0.00165     0.0639\n",
      "  214                        103.Conv2d.weight     False        32768     [128, 256, 1, 1]   -0.00134     0.0287\n",
      "  215                   103.BatchNorm2d.weight     False          128                [128]    0.00532     0.0458\n",
      "  216                     103.BatchNorm2d.bias     False          128                [128]     -0.011     0.0377\n",
      "  217                        104.Conv2d.weight     False       294912     [256, 128, 3, 3]   0.000808     0.0793\n",
      "  218                   104.BatchNorm2d.weight     False          256                [256]   -0.00805     0.0412\n",
      "  219                     104.BatchNorm2d.bias     False          256                [256]   -0.00675     0.0303\n",
      "  220                        105.Conv2d.weight      True         4608      [18, 256, 1, 1]   -0.00143     0.0313\n",
      "  221                          105.Conv2d.bias      True           18                 [18]      -1.33       3.65\n",
      "Model Summary: 222 layers, 6.15237e+07 parameters, 32310 gradients\n",
      "Image sizes 320 - 640 train, 640 test\n",
      "Using 2 dataloader workers\n",
      "Starting training for 500 epochs...\n",
      "\n",
      "     Epoch   gpu_mem      GIoU       obj       cls     total   targets  img_size\n",
      "  0% 0/204 [00:00<?, ?it/s]"
     ]
    }
   ],
   "source": [
    "!python3 train.py --weights 'weights/yolov3_out/best.pt' --cfg yolov3_for_test.cfg--data data/fire.data --epochs 500 --batch 4"
   ]
  },
  {
   "cell_type": "code",
   "execution_count": 0,
   "metadata": {
    "colab": {
     "base_uri": "https://localhost:8080/",
     "height": 1000
    },
    "colab_type": "code",
    "id": "g1wal1RihcUm",
    "outputId": "5a212d79-2225-4ba3-9328-ef833dcef2ce"
   },
   "outputs": [
    {
     "name": "stdout",
     "output_type": "stream",
     "text": [
      "Apex recommended for faster mixed precision training: https://github.com/NVIDIA/apex\n",
      "Namespace(accumulate=4, adam=False, batch_size=16, bucket='', cache_images=False, cfg='yolov3-tiny1.0.cfg', data='data/fire.data', device='', epochs=1500, evolve=False, img_size=[320, 640], multi_scale=False, name='', nosave=False, notest=False, rect=False, resume=False, single_cls=False, weights='./weights/001/1400.pt')\n",
      "Using CUDA device0 _CudaDeviceProperties(name='Tesla K80', total_memory=11441MB)\n",
      "\n",
      "Start Tensorboard with \"tensorboard --logdir=runs\", view at http://localhost:6006/\n",
      "2020-04-26 17:13:45.349877: I tensorflow/stream_executor/platform/default/dso_loader.cc:44] Successfully opened dynamic library libcudart.so.10.1\n",
      "Model Summary: 37 layers, 8.66988e+06 parameters, 8.66988e+06 gradients\n",
      "Caching labels (814 found, 0 missing, 0 empty, 0 duplicate, for 814 images): 100% 814/814 [00:01<00:00, 692.15it/s]\n",
      "Caching labels (82 found, 1 missing, 0 empty, 0 duplicate, for 83 images): 100% 83/83 [00:00<00:00, 659.53it/s]\n",
      "layer                                     name  gradient   parameters                shape         mu      sigma\n",
      "    0                          0.Conv2d.weight      True          432        [16, 3, 3, 3]   -0.00395      0.757\n",
      "    1                     0.BatchNorm2d.weight      True           16                 [16]       3.18       1.37\n",
      "    2                       0.BatchNorm2d.bias      True           16                 [16]      -1.31       3.37\n",
      "    3                          2.Conv2d.weight      True         4608       [32, 16, 3, 3]    -0.0268      0.267\n",
      "    4                     2.BatchNorm2d.weight      True           32                 [32]       3.53        1.6\n",
      "    5                       2.BatchNorm2d.bias      True           32                 [32]     -0.441       1.12\n",
      "    6                          4.Conv2d.weight      True        18432       [64, 32, 3, 3]    -0.0159      0.152\n",
      "    7                     4.BatchNorm2d.weight      True           64                 [64]       2.61      0.883\n",
      "    8                       4.BatchNorm2d.bias      True           64                 [64]     -0.657       1.27\n",
      "    9                          6.Conv2d.weight      True        73728      [128, 64, 3, 3]   -0.00831     0.0913\n",
      "   10                     6.BatchNorm2d.weight      True          128                [128]       2.33      0.587\n",
      "   11                       6.BatchNorm2d.bias      True          128                [128]      -1.36          1\n",
      "   12                          8.Conv2d.weight      True       294912     [256, 128, 3, 3]   -0.00526     0.0572\n",
      "   13                     8.BatchNorm2d.weight      True          256                [256]       1.92       0.37\n",
      "   14                       8.BatchNorm2d.bias      True          256                [256]      -1.72      0.877\n",
      "   15                         10.Conv2d.weight      True  1.17965e+06     [512, 256, 3, 3]   -0.00294     0.0348\n",
      "   16                    10.BatchNorm2d.weight      True          512                [512]       1.53       0.31\n",
      "   17                      10.BatchNorm2d.bias      True          512                [512]      -1.95      0.875\n",
      "   18                         12.Conv2d.weight      True  4.71859e+06    [1024, 512, 3, 3]   -0.00131     0.0201\n",
      "   19                    12.BatchNorm2d.weight      True         1024               [1024]       4.64      0.766\n",
      "   20                      12.BatchNorm2d.bias      True         1024               [1024]       -3.1      0.702\n",
      "   21                         13.Conv2d.weight      True       262144    [256, 1024, 1, 1]   -0.00367     0.0498\n",
      "   22                    13.BatchNorm2d.weight      True          256                [256]      0.941       0.16\n",
      "   23                      13.BatchNorm2d.bias      True          256                [256]     -0.281      0.324\n",
      "   24                         14.Conv2d.weight      True  1.17965e+06     [512, 256, 3, 3]   -0.00139     0.0198\n",
      "   25                    14.BatchNorm2d.weight      True          512                [512]       1.19      0.251\n",
      "   26                      14.BatchNorm2d.bias      True          512                [512]     0.0238      0.192\n",
      "   27                         15.Conv2d.weight      True         9216      [18, 512, 1, 1]   -0.00473     0.0556\n",
      "   28                           15.Conv2d.bias      True           18                 [18]    -0.0314       2.64\n",
      "   29                         18.Conv2d.weight      True        32768     [128, 256, 1, 1]   -0.00551     0.0672\n",
      "   30                    18.BatchNorm2d.weight      True          128                [128]       1.15      0.121\n",
      "   31                      18.BatchNorm2d.bias      True          128                [128]     0.0992      0.348\n",
      "   32                         21.Conv2d.weight      True       884736     [256, 384, 3, 3]   -0.00105     0.0262\n",
      "   33                    21.BatchNorm2d.weight      True          256                [256]       1.25      0.324\n",
      "   34                      21.BatchNorm2d.bias      True          256                [256]      0.173       0.32\n",
      "   35                         22.Conv2d.weight      True         4608      [18, 256, 1, 1]   -0.00537     0.0526\n",
      "   36                           22.Conv2d.bias      True           18                 [18]      -0.24       3.15\n",
      "Model Summary: 37 layers, 8.66988e+06 parameters, 8.66988e+06 gradients\n",
      "Image sizes 320 - 640 train, 640 test\n",
      "Using 2 dataloader workers\n",
      "Starting training for 1500 epochs...\n",
      "\n",
      "     Epoch   gpu_mem      GIoU       obj       cls     total   targets  img_size\n",
      " 1401/1499     4.41G      1.47      1.45         0      2.92        37       576: 100% 51/51 [00:36<00:00,  1.41it/s]\n",
      "               Class    Images   Targets         P         R   mAP@0.5        F1: 100% 6/6 [00:03<00:00,  1.80it/s]\n",
      "                 all        83        82     0.681     0.768     0.746     0.722\n",
      "\n",
      "     Epoch   gpu_mem      GIoU       obj       cls     total   targets  img_size\n",
      " 1402/1499     4.41G      1.47      1.61         0      3.08        34       640:  63% 32/51 [00:23<00:15,  1.24it/s]Traceback (most recent call last):\n",
      "  File \"train.py\", line 438, in <module>\n",
      "    train()  # train normally\n",
      "  File \"train.py\", line 282, in train\n",
      "    loss.backward()\n",
      "  File \"/usr/local/lib/python3.6/dist-packages/torch/tensor.py\", line 195, in backward\n",
      "    torch.autograd.backward(self, gradient, retain_graph, create_graph)\n",
      "  File \"/usr/local/lib/python3.6/dist-packages/torch/autograd/__init__.py\", line 99, in backward\n",
      "    allow_unreachable=True)  # allow_unreachable flag\n",
      "KeyboardInterrupt\n",
      " 1402/1499     4.41G      1.47      1.61         0      3.08        34       640:  63% 32/51 [00:24<00:14,  1.31it/s]\n"
     ]
    }
   ],
   "source": [
    "!python3 train.py --weights './weights/001/1400.pt' --cfg yolov3_for_test.cfg --data data/fire.data --epochs 1500 --batch 16"
   ]
  },
  {
   "cell_type": "code",
   "execution_count": 0,
   "metadata": {
    "colab": {
     "base_uri": "https://localhost:8080/",
     "height": 156
    },
    "colab_type": "code",
    "id": "v9i81rdcroem",
    "outputId": "84f4191d-33d6-4240-9042-acfbe8184ad5"
   },
   "outputs": [
    {
     "name": "stdout",
     "output_type": "stream",
     "text": [
      "Namespace(agnostic_nms=False, augment=False, cfg='yolov3_for_test.cfg', classes=None, conf_thres=0.1, device='', fourcc='mp4v', half=False, img_size=416, iou_thres=0.0001, names='fire.names', output='output', save_txt=False, source='fire_data/jpg/fire-111.jpg', view_img=False, weights='weights/yolov3_small_dataset/best.pt')\n",
      "Using CUDA device0 _CudaDeviceProperties(name='Tesla P4', total_memory=7611MB)\n",
      "\n",
      "Model Summary: 222 layers, 6.15237e+07 parameters, 6.15237e+07 gradients\n",
      "image 1/1 fire_data/jpg/fire-111.jpg: 288x416 Done. (0.026s)\n",
      "Results saved to /content/drive/My Drive/yolov3-master/output\n",
      "Done. (0.074s)\n"
     ]
    }
   ],
   "source": [
    "!python detect.py --source fire_data/jpg/fire-111.jpg"
   ]
  },
  {
   "cell_type": "code",
   "execution_count": 0,
   "metadata": {
    "colab": {
     "base_uri": "https://localhost:8080/",
     "height": 156
    },
    "colab_type": "code",
    "id": "NhougYBSokKD",
    "outputId": "3753782a-a026-4afe-ae44-a271b951210f"
   },
   "outputs": [
    {
     "name": "stdout",
     "output_type": "stream",
     "text": [
      "Namespace(agnostic_nms=False, augment=False, cfg='yolov3_for_test.cfg', classes=None, conf_thres=0.01, device='', fourcc='mp4v', half=False, img_size=416, iou_thres=0.01, names='fire.names', output='output', save_txt=False, source='fire_data/jpg_new/fire-842.jpg', view_img=False, weights='weights/smoke_30/200.pt')\n",
      "Using CUDA device0 _CudaDeviceProperties(name='Tesla P100-PCIE-16GB', total_memory=16280MB)\n",
      "\n",
      "Model Summary: 222 layers, 6.15291e+07 parameters, 6.15291e+07 gradients\n",
      "image 1/1 fire_data/jpg_new/fire-842.jpg: 288x416 1 fires, Done. (0.015s)\n",
      "Results saved to /content/drive/My Drive/yolov3-master/output\n",
      "Done. (0.432s)\n"
     ]
    }
   ],
   "source": [
    "!python3 detect.py --cfg yolov3_for_test.cfg --weights weights/smoke_30/200.pt --source fire_data/jpg_new/fire-842.jpg"
   ]
  }
 ],
 "metadata": {
  "accelerator": "GPU",
  "colab": {
   "collapsed_sections": [],
   "name": "fire_detection.ipynb",
   "provenance": []
  },
  "kernelspec": {
   "display_name": "Python 3",
   "language": "python",
   "name": "python3"
  },
  "language_info": {
   "codemirror_mode": {
    "name": "ipython",
    "version": 3
   },
   "file_extension": ".py",
   "mimetype": "text/x-python",
   "name": "python",
   "nbconvert_exporter": "python",
   "pygments_lexer": "ipython3",
   "version": "3.7.2"
  }
 },
 "nbformat": 4,
 "nbformat_minor": 1
}
